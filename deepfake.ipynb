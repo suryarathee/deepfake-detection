{
 "cells": [
  {
   "metadata": {
    "ExecuteTime": {
     "end_time": "2025-05-20T12:36:03.957258Z",
     "start_time": "2025-05-20T12:36:03.942261Z"
    }
   },
   "cell_type": "code",
   "source": [
    "import pandas as pd\n",
    "\n",
    "df = pd.DataFrame({\n",
    "    'image_path': [f'C:/Users/rathe/Desktop/deepfake_images/{Y}.png' for Y in range(0,50)]+[f\"C:/Users/rathe/Desktop/Human_Faces_Dataset/Real_Images/0000{X}.jpg\" for X in range(10,60)],\n",
    "    'label': [1 for Y in range(0,50)]+[0 for X in range(0,50)]  # 1 = Fake, 0 = Real\n",
    "})\n"
   ],
   "id": "9b0928bd58192210",
   "outputs": [],
   "execution_count": 71
  },
  {
   "metadata": {
    "ExecuteTime": {
     "end_time": "2025-05-20T11:11:10.702292Z",
     "start_time": "2025-05-20T11:11:10.686281Z"
    }
   },
   "cell_type": "code",
   "source": [
    "def soft_voting_predict(image_path, models):\n",
    "    import numpy as np\n",
    "    probs_list = [predict_image(model, extractor, image_path) for model, extractor in models]\n",
    "    avg_probs = np.mean(probs_list, axis=0)\n",
    "    return int(np.argmax(avg_probs))\n"
   ],
   "id": "cbc6e2ccdd1c2958",
   "outputs": [],
   "execution_count": 13
  },
  {
   "metadata": {
    "ExecuteTime": {
     "end_time": "2025-05-20T11:11:10.909976Z",
     "start_time": "2025-05-20T11:11:10.889918Z"
    }
   },
   "cell_type": "code",
   "source": [
    "def predict_image(model, extractor, image_path):\n",
    "    from PIL import Image\n",
    "    import torch\n",
    "\n",
    "    image = Image.open(image_path).convert(\"RGB\")\n",
    "    inputs = extractor(images=image, return_tensors=\"pt\")\n",
    "    with torch.no_grad():\n",
    "        outputs = model(**inputs)\n",
    "        probs = torch.softmax(outputs.logits, dim=1).numpy()[0]\n",
    "    return probs\n"
   ],
   "id": "c8d2f76cc3cad5a6",
   "outputs": [],
   "execution_count": 14
  },
  {
   "metadata": {
    "ExecuteTime": {
     "end_time": "2025-05-20T11:11:11.068922Z",
     "start_time": "2025-05-20T11:11:11.046921Z"
    }
   },
   "cell_type": "code",
   "source": [
    "from transformers import AutoModelForImageClassification, AutoFeatureExtractor\n",
    "\n",
    "def load_all_models(model_names):\n",
    "    loaded = []\n",
    "    for name in model_names:\n",
    "        model = AutoModelForImageClassification.from_pretrained(name)\n",
    "        extractor = AutoFeatureExtractor.from_pretrained(name)\n",
    "        model.eval()\n",
    "        loaded.append((model, extractor))\n",
    "    return loaded\n"
   ],
   "id": "1de858c8eb95af7d",
   "outputs": [],
   "execution_count": 15
  },
  {
   "metadata": {
    "ExecuteTime": {
     "end_time": "2025-05-20T11:12:47.767150Z",
     "start_time": "2025-05-20T11:12:47.749981Z"
    }
   },
   "cell_type": "code",
   "source": [
    "from transformers import AutoModelForImageClassification, AutoFeatureExtractor\n",
    "import torch\n",
    "import numpy as np\n",
    "from PIL import Image\n",
    "\n",
    "class ModelPipeline:\n",
    "    def __init__(self, model_name):\n",
    "        self.model = AutoModelForImageClassification.from_pretrained(model_name)\n",
    "        self.extractor = AutoFeatureExtractor.from_pretrained(model_name)\n",
    "        self.model.eval()\n",
    "\n",
    "        # Extract and flip label map if needed\n",
    "        config = self.model.config\n",
    "        self.label_map = config.id2label\n",
    "        self.flip = self.label_map[0].upper() == \"FAKE\"  # If 0 is FAKE, we need to flip\n",
    "\n",
    "    def predict_proba(self, image_path):\n",
    "        image = Image.open(image_path).convert(\"RGB\")\n",
    "        inputs = self.extractor(images=image, return_tensors=\"pt\")\n",
    "        with torch.no_grad():\n",
    "            outputs = self.model(**inputs)\n",
    "            probs = torch.softmax(outputs.logits, dim=1).numpy()[0]\n",
    "        return probs if not self.flip else probs[::-1]  # Flip if label mapping is reversed\n",
    "\n",
    "    def predict(self, image_path):\n",
    "        return int(np.argmax(self.predict_proba(image_path)))\n"
   ],
   "id": "77d526c4ac74ebb8",
   "outputs": [],
   "execution_count": 23
  },
  {
   "metadata": {
    "ExecuteTime": {
     "end_time": "2025-05-20T11:12:57.450043Z",
     "start_time": "2025-05-20T11:12:57.439043Z"
    }
   },
   "cell_type": "code",
   "source": [
    "from collections import Counter\n",
    "\n",
    "class EnsemblePipeline:\n",
    "    def __init__(self, pipelines, voting='soft'):\n",
    "        self.pipelines = pipelines\n",
    "        self.voting = voting\n",
    "\n",
    "    def predict(self, image_path):\n",
    "        if self.voting == 'soft':\n",
    "            all_probs = [p.predict_proba(image_path) for p in self.pipelines]\n",
    "            avg_probs = np.mean(all_probs, axis=0)\n",
    "            return int(np.argmax(avg_probs))\n",
    "        elif self.voting == 'hard':\n",
    "            all_preds = [p.predict(image_path) for p in self.pipelines]\n",
    "            return Counter(all_preds).most_common(1)[0][0]\n",
    "        else:\n",
    "            raise ValueError(\"Voting must be 'soft' or 'hard'\")\n"
   ],
   "id": "4dd1d7292e745894",
   "outputs": [],
   "execution_count": 27
  },
  {
   "metadata": {
    "ExecuteTime": {
     "end_time": "2025-05-20T12:38:38.395114Z",
     "start_time": "2025-05-20T12:36:06.448593Z"
    }
   },
   "cell_type": "code",
   "source": [
    "import pandas as pd\n",
    "from sklearn.metrics import classification_report\n",
    "\n",
    "# Load your data\n",
    "\n",
    "# Define model names\n",
    "model_names = [\n",
    "    \"dima806/deepfake_vs_real_image_detection\",\n",
    "    \"prithivMLmods/Deep-Fake-Detector-Model\",\n",
    "    \"DaMsTaR/Detecto-DeepFake_Image_Detector\",\n",
    "    \"DarkVision/Deepfake_detection_image\",\n",
    "    \"Wvolf/ViT_Deepfake_Detection\",\n",
    "    \"thembululwa/deepfake_detection\",\n",
    "    \"prithivMLmods/Deep-Fake-Detector-v2-Model-ONNX\"\n",
    "]\n",
    "\n",
    "# Create individual pipelines\n",
    "pipelines = [ModelPipeline(name) for name in model_names]\n",
    "\n",
    "# Create ensemble\n",
    "ensemble = EnsemblePipeline(pipelines, voting='soft')  # or 'hard'\n",
    "\n",
    "# Predict\n",
    "df['ensemble_pred'] = df['image_path'].apply(ensemble.predict)\n",
    "\n",
    "# Evaluate\n",
    "print(classification_report(df['label'], df['ensemble_pred']))\n"
   ],
   "id": "b13f7cc2592bfa03",
   "outputs": [
    {
     "name": "stderr",
     "output_type": "stream",
     "text": [
      "C:\\Users\\rathe\\anaconda3\\envs\\LLM\\lib\\site-packages\\transformers\\models\\vit\\feature_extraction_vit.py:28: FutureWarning: The class ViTFeatureExtractor is deprecated and will be removed in version 5 of Transformers. Please use ViTImageProcessor instead.\n",
      "  warnings.warn(\n"
     ]
    },
    {
     "name": "stdout",
     "output_type": "stream",
     "text": [
      "              precision    recall  f1-score   support\n",
      "\n",
      "           0       0.94      0.94      0.94        50\n",
      "           1       0.94      0.94      0.94        50\n",
      "\n",
      "    accuracy                           0.94       100\n",
      "   macro avg       0.94      0.94      0.94       100\n",
      "weighted avg       0.94      0.94      0.94       100\n",
      "\n"
     ]
    }
   ],
   "execution_count": 72
  },
  {
   "metadata": {
    "ExecuteTime": {
     "end_time": "2025-05-20T13:40:28.277262Z",
     "start_time": "2025-05-20T13:29:49.297301Z"
    }
   },
   "cell_type": "code",
   "source": [
    "reports = {}\n",
    "for model_name in model_names:\n",
    "    print(f\"\\n==== Model: {model_name} ====\")\n",
    "    try:\n",
    "        pipeline = ModelPipeline(model_name)\n",
    "        y_true = df[\"label\"].tolist()\n",
    "        y_pred = [pipeline.predict(path) for path in df[\"image_path\"]]\n",
    "\n",
    "        report = classification_report(y_true, y_pred, target_names=[\"FAKE\", \"REAL\"])\n",
    "        reports[model_name] = report\n",
    "        print(report)\n",
    "    except Exception as e:\n",
    "        print(f\"Error with model {model_name}: {e}\")"
   ],
   "id": "4874727e882cb0d",
   "outputs": [
    {
     "name": "stdout",
     "output_type": "stream",
     "text": [
      "\n",
      "==== Model: dima806/deepfake_vs_real_image_detection ====\n"
     ]
    },
    {
     "name": "stderr",
     "output_type": "stream",
     "text": [
      "C:\\Users\\rathe\\anaconda3\\envs\\LLM\\lib\\site-packages\\transformers\\models\\vit\\feature_extraction_vit.py:28: FutureWarning: The class ViTFeatureExtractor is deprecated and will be removed in version 5 of Transformers. Please use ViTImageProcessor instead.\n",
      "  warnings.warn(\n"
     ]
    },
    {
     "name": "stdout",
     "output_type": "stream",
     "text": [
      "              precision    recall  f1-score   support\n",
      "\n",
      "        FAKE       0.90      0.94      0.92        50\n",
      "        REAL       0.94      0.90      0.92        50\n",
      "\n",
      "    accuracy                           0.92       100\n",
      "   macro avg       0.92      0.92      0.92       100\n",
      "weighted avg       0.92      0.92      0.92       100\n",
      "\n",
      "\n",
      "==== Model: prithivMLmods/Deep-Fake-Detector-Model ====\n"
     ]
    },
    {
     "name": "stderr",
     "output_type": "stream",
     "text": [
      "C:\\Users\\rathe\\anaconda3\\envs\\LLM\\lib\\site-packages\\transformers\\models\\vit\\feature_extraction_vit.py:28: FutureWarning: The class ViTFeatureExtractor is deprecated and will be removed in version 5 of Transformers. Please use ViTImageProcessor instead.\n",
      "  warnings.warn(\n"
     ]
    },
    {
     "name": "stdout",
     "output_type": "stream",
     "text": [
      "              precision    recall  f1-score   support\n",
      "\n",
      "        FAKE       0.49      0.98      0.66        50\n",
      "        REAL       0.00      0.00      0.00        50\n",
      "\n",
      "    accuracy                           0.49       100\n",
      "   macro avg       0.25      0.49      0.33       100\n",
      "weighted avg       0.25      0.49      0.33       100\n",
      "\n",
      "\n",
      "==== Model: DaMsTaR/Detecto-DeepFake_Image_Detector ====\n"
     ]
    },
    {
     "name": "stderr",
     "output_type": "stream",
     "text": [
      "C:\\Users\\rathe\\anaconda3\\envs\\LLM\\lib\\site-packages\\transformers\\models\\vit\\feature_extraction_vit.py:28: FutureWarning: The class ViTFeatureExtractor is deprecated and will be removed in version 5 of Transformers. Please use ViTImageProcessor instead.\n",
      "  warnings.warn(\n"
     ]
    },
    {
     "name": "stdout",
     "output_type": "stream",
     "text": [
      "              precision    recall  f1-score   support\n",
      "\n",
      "        FAKE       1.00      0.96      0.98        50\n",
      "        REAL       0.96      1.00      0.98        50\n",
      "\n",
      "    accuracy                           0.98       100\n",
      "   macro avg       0.98      0.98      0.98       100\n",
      "weighted avg       0.98      0.98      0.98       100\n",
      "\n",
      "\n",
      "==== Model: DarkVision/Deepfake_detection_image ====\n"
     ]
    },
    {
     "name": "stderr",
     "output_type": "stream",
     "text": [
      "C:\\Users\\rathe\\anaconda3\\envs\\LLM\\lib\\site-packages\\transformers\\models\\vit\\feature_extraction_vit.py:28: FutureWarning: The class ViTFeatureExtractor is deprecated and will be removed in version 5 of Transformers. Please use ViTImageProcessor instead.\n",
      "  warnings.warn(\n"
     ]
    },
    {
     "name": "stdout",
     "output_type": "stream",
     "text": [
      "              precision    recall  f1-score   support\n",
      "\n",
      "        FAKE       1.00      0.96      0.98        50\n",
      "        REAL       0.96      1.00      0.98        50\n",
      "\n",
      "    accuracy                           0.98       100\n",
      "   macro avg       0.98      0.98      0.98       100\n",
      "weighted avg       0.98      0.98      0.98       100\n",
      "\n",
      "\n",
      "==== Model: Wvolf/ViT_Deepfake_Detection ====\n"
     ]
    },
    {
     "name": "stderr",
     "output_type": "stream",
     "text": [
      "C:\\Users\\rathe\\anaconda3\\envs\\LLM\\lib\\site-packages\\transformers\\models\\vit\\feature_extraction_vit.py:28: FutureWarning: The class ViTFeatureExtractor is deprecated and will be removed in version 5 of Transformers. Please use ViTImageProcessor instead.\n",
      "  warnings.warn(\n"
     ]
    },
    {
     "name": "stdout",
     "output_type": "stream",
     "text": [
      "              precision    recall  f1-score   support\n",
      "\n",
      "        FAKE       1.00      0.96      0.98        50\n",
      "        REAL       0.96      1.00      0.98        50\n",
      "\n",
      "    accuracy                           0.98       100\n",
      "   macro avg       0.98      0.98      0.98       100\n",
      "weighted avg       0.98      0.98      0.98       100\n",
      "\n",
      "\n",
      "==== Model: fabar1/vit-detection-celebdf-deepfake ====\n"
     ]
    },
    {
     "name": "stderr",
     "output_type": "stream",
     "text": [
      "C:\\Users\\rathe\\anaconda3\\envs\\LLM\\lib\\site-packages\\transformers\\models\\vit\\feature_extraction_vit.py:28: FutureWarning: The class ViTFeatureExtractor is deprecated and will be removed in version 5 of Transformers. Please use ViTImageProcessor instead.\n",
      "  warnings.warn(\n"
     ]
    },
    {
     "name": "stdout",
     "output_type": "stream",
     "text": [
      "              precision    recall  f1-score   support\n",
      "\n",
      "        FAKE       0.44      0.78      0.56        50\n",
      "        REAL       0.00      0.00      0.00        50\n",
      "\n",
      "    accuracy                           0.39       100\n",
      "   macro avg       0.22      0.39      0.28       100\n",
      "weighted avg       0.22      0.39      0.28       100\n",
      "\n",
      "\n",
      "==== Model: emobobas/celebrity_deepfake_detection ====\n"
     ]
    },
    {
     "name": "stderr",
     "output_type": "stream",
     "text": [
      "C:\\Users\\rathe\\anaconda3\\envs\\LLM\\lib\\site-packages\\transformers\\models\\vit\\feature_extraction_vit.py:28: FutureWarning: The class ViTFeatureExtractor is deprecated and will be removed in version 5 of Transformers. Please use ViTImageProcessor instead.\n",
      "  warnings.warn(\n",
      "C:\\Users\\rathe\\anaconda3\\envs\\LLM\\lib\\site-packages\\sklearn\\metrics\\_classification.py:1344: UndefinedMetricWarning: Precision and F-score are ill-defined and being set to 0.0 in labels with no predicted samples. Use `zero_division` parameter to control this behavior.\n",
      "  _warn_prf(average, modifier, msg_start, len(result))\n",
      "C:\\Users\\rathe\\anaconda3\\envs\\LLM\\lib\\site-packages\\sklearn\\metrics\\_classification.py:1344: UndefinedMetricWarning: Precision and F-score are ill-defined and being set to 0.0 in labels with no predicted samples. Use `zero_division` parameter to control this behavior.\n",
      "  _warn_prf(average, modifier, msg_start, len(result))\n",
      "C:\\Users\\rathe\\anaconda3\\envs\\LLM\\lib\\site-packages\\sklearn\\metrics\\_classification.py:1344: UndefinedMetricWarning: Precision and F-score are ill-defined and being set to 0.0 in labels with no predicted samples. Use `zero_division` parameter to control this behavior.\n",
      "  _warn_prf(average, modifier, msg_start, len(result))\n"
     ]
    },
    {
     "name": "stdout",
     "output_type": "stream",
     "text": [
      "              precision    recall  f1-score   support\n",
      "\n",
      "        FAKE       0.00      0.00      0.00        50\n",
      "        REAL       0.50      1.00      0.67        50\n",
      "\n",
      "    accuracy                           0.50       100\n",
      "   macro avg       0.25      0.50      0.33       100\n",
      "weighted avg       0.25      0.50      0.33       100\n",
      "\n",
      "\n",
      "==== Model: HrutikAdsare/deepfake-detector-faceforensics ====\n"
     ]
    },
    {
     "name": "stderr",
     "output_type": "stream",
     "text": [
      "C:\\Users\\rathe\\anaconda3\\envs\\LLM\\lib\\site-packages\\transformers\\models\\vit\\feature_extraction_vit.py:28: FutureWarning: The class ViTFeatureExtractor is deprecated and will be removed in version 5 of Transformers. Please use ViTImageProcessor instead.\n",
      "  warnings.warn(\n"
     ]
    },
    {
     "name": "stdout",
     "output_type": "stream",
     "text": [
      "              precision    recall  f1-score   support\n",
      "\n",
      "        FAKE       0.27      0.36      0.31        50\n",
      "        REAL       0.03      0.02      0.02        50\n",
      "\n",
      "    accuracy                           0.19       100\n",
      "   macro avg       0.15      0.19      0.17       100\n",
      "weighted avg       0.15      0.19      0.17       100\n",
      "\n",
      "\n",
      "==== Model: Hemg/Deepfake-Detection ====\n"
     ]
    },
    {
     "name": "stderr",
     "output_type": "stream",
     "text": [
      "C:\\Users\\rathe\\anaconda3\\envs\\LLM\\lib\\site-packages\\transformers\\models\\vit\\feature_extraction_vit.py:28: FutureWarning: The class ViTFeatureExtractor is deprecated and will be removed in version 5 of Transformers. Please use ViTImageProcessor instead.\n",
      "  warnings.warn(\n"
     ]
    },
    {
     "name": "stdout",
     "output_type": "stream",
     "text": [
      "              precision    recall  f1-score   support\n",
      "\n",
      "        FAKE       0.49      0.96      0.65        50\n",
      "        REAL       0.00      0.00      0.00        50\n",
      "\n",
      "    accuracy                           0.48       100\n",
      "   macro avg       0.24      0.48      0.32       100\n",
      "weighted avg       0.24      0.48      0.32       100\n",
      "\n",
      "\n",
      "==== Model: thembululwa/deepfake_detection ====\n"
     ]
    },
    {
     "name": "stderr",
     "output_type": "stream",
     "text": [
      "C:\\Users\\rathe\\anaconda3\\envs\\LLM\\lib\\site-packages\\transformers\\models\\vit\\feature_extraction_vit.py:28: FutureWarning: The class ViTFeatureExtractor is deprecated and will be removed in version 5 of Transformers. Please use ViTImageProcessor instead.\n",
      "  warnings.warn(\n"
     ]
    },
    {
     "name": "stdout",
     "output_type": "stream",
     "text": [
      "              precision    recall  f1-score   support\n",
      "\n",
      "        FAKE       0.68      1.00      0.81        50\n",
      "        REAL       1.00      0.54      0.70        50\n",
      "\n",
      "    accuracy                           0.77       100\n",
      "   macro avg       0.84      0.77      0.76       100\n",
      "weighted avg       0.84      0.77      0.76       100\n",
      "\n"
     ]
    }
   ],
   "execution_count": 75
  },
  {
   "metadata": {
    "ExecuteTime": {
     "end_time": "2025-05-20T15:15:35.963349Z",
     "start_time": "2025-05-20T15:15:35.941349Z"
    }
   },
   "cell_type": "code",
   "source": "reports",
   "id": "3266cf841e762bb",
   "outputs": [
    {
     "data": {
      "text/plain": [
       "{'dima806/deepfake_vs_real_image_detection': '              precision    recall  f1-score   support\\n\\n        FAKE       0.90      0.94      0.92        50\\n        REAL       0.94      0.90      0.92        50\\n\\n    accuracy                           0.92       100\\n   macro avg       0.92      0.92      0.92       100\\nweighted avg       0.92      0.92      0.92       100\\n',\n",
       " 'prithivMLmods/Deep-Fake-Detector-Model': '              precision    recall  f1-score   support\\n\\n        FAKE       0.49      0.98      0.66        50\\n        REAL       0.00      0.00      0.00        50\\n\\n    accuracy                           0.49       100\\n   macro avg       0.25      0.49      0.33       100\\nweighted avg       0.25      0.49      0.33       100\\n',\n",
       " 'DaMsTaR/Detecto-DeepFake_Image_Detector': '              precision    recall  f1-score   support\\n\\n        FAKE       1.00      0.96      0.98        50\\n        REAL       0.96      1.00      0.98        50\\n\\n    accuracy                           0.98       100\\n   macro avg       0.98      0.98      0.98       100\\nweighted avg       0.98      0.98      0.98       100\\n',\n",
       " 'DarkVision/Deepfake_detection_image': '              precision    recall  f1-score   support\\n\\n        FAKE       1.00      0.96      0.98        50\\n        REAL       0.96      1.00      0.98        50\\n\\n    accuracy                           0.98       100\\n   macro avg       0.98      0.98      0.98       100\\nweighted avg       0.98      0.98      0.98       100\\n',\n",
       " 'Wvolf/ViT_Deepfake_Detection': '              precision    recall  f1-score   support\\n\\n        FAKE       1.00      0.96      0.98        50\\n        REAL       0.96      1.00      0.98        50\\n\\n    accuracy                           0.98       100\\n   macro avg       0.98      0.98      0.98       100\\nweighted avg       0.98      0.98      0.98       100\\n',\n",
       " 'fabar1/vit-detection-celebdf-deepfake': '              precision    recall  f1-score   support\\n\\n        FAKE       0.44      0.78      0.56        50\\n        REAL       0.00      0.00      0.00        50\\n\\n    accuracy                           0.39       100\\n   macro avg       0.22      0.39      0.28       100\\nweighted avg       0.22      0.39      0.28       100\\n',\n",
       " 'emobobas/celebrity_deepfake_detection': '              precision    recall  f1-score   support\\n\\n        FAKE       0.00      0.00      0.00        50\\n        REAL       0.50      1.00      0.67        50\\n\\n    accuracy                           0.50       100\\n   macro avg       0.25      0.50      0.33       100\\nweighted avg       0.25      0.50      0.33       100\\n',\n",
       " 'HrutikAdsare/deepfake-detector-faceforensics': '              precision    recall  f1-score   support\\n\\n        FAKE       0.27      0.36      0.31        50\\n        REAL       0.03      0.02      0.02        50\\n\\n    accuracy                           0.19       100\\n   macro avg       0.15      0.19      0.17       100\\nweighted avg       0.15      0.19      0.17       100\\n',\n",
       " 'Hemg/Deepfake-Detection': '              precision    recall  f1-score   support\\n\\n        FAKE       0.49      0.96      0.65        50\\n        REAL       0.00      0.00      0.00        50\\n\\n    accuracy                           0.48       100\\n   macro avg       0.24      0.48      0.32       100\\nweighted avg       0.24      0.48      0.32       100\\n',\n",
       " 'thembululwa/deepfake_detection': '              precision    recall  f1-score   support\\n\\n        FAKE       0.68      1.00      0.81        50\\n        REAL       1.00      0.54      0.70        50\\n\\n    accuracy                           0.77       100\\n   macro avg       0.84      0.77      0.76       100\\nweighted avg       0.84      0.77      0.76       100\\n'}"
      ]
     },
     "execution_count": 76,
     "metadata": {},
     "output_type": "execute_result"
    }
   ],
   "execution_count": 76
  },
  {
   "metadata": {},
   "cell_type": "code",
   "outputs": [],
   "execution_count": null,
   "source": "",
   "id": "136fd7f769ddbaf7"
  }
 ],
 "metadata": {
  "kernelspec": {
   "display_name": "Python 3 (ipykernel)",
   "language": "python",
   "name": "python3"
  },
  "language_info": {
   "codemirror_mode": {
    "name": "ipython",
    "version": 2
   },
   "file_extension": ".py",
   "mimetype": "text/x-python",
   "name": "python",
   "nbconvert_exporter": "python",
   "pygments_lexer": "ipython2",
   "version": "2.7.6"
  }
 },
 "nbformat": 4,
 "nbformat_minor": 5
}
